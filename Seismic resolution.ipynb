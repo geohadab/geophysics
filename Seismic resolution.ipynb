{
 "cells": [
  {
   "cell_type": "markdown",
   "metadata": {},
   "source": [
    "# Summary \n",
    "\n",
    "there are two resolution in seismic data \n",
    "1. temporal resolution ... resolution along the time axis \n",
    "2. spatial resolution ... resolution along x-y axis \n",
    "\n",
    "I need to talk about convolutional model and wedge model \n",
    "\n",
    "and of course seismic migration \n",
    "\n",
    "there is a good source for seismic migration (EAGE channel )"
   ]
  },
  {
   "cell_type": "code",
   "execution_count": null,
   "metadata": {},
   "outputs": [],
   "source": []
  }
 ],
 "metadata": {
  "kernelspec": {
   "display_name": "Python 3",
   "language": "python",
   "name": "python3"
  },
  "language_info": {
   "codemirror_mode": {
    "name": "ipython",
    "version": 3
   },
   "file_extension": ".py",
   "mimetype": "text/x-python",
   "name": "python",
   "nbconvert_exporter": "python",
   "pygments_lexer": "ipython3",
   "version": "3.6.7"
  }
 },
 "nbformat": 4,
 "nbformat_minor": 4
}
