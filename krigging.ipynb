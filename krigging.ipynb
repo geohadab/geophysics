{
 "cells": [
  {
   "cell_type": "markdown",
   "metadata": {},
   "source": [
    "# Summary\n",
    "\n",
    "in this tutorial I will explain interpolation methods and pros and cons of every method\n",
    "1. veronoi \n",
    "2. inverse distance \n",
    "3. simple krigging\n",
    "4. ordinary kirgging\n",
    "5. co-krigging\n",
    "\n",
    "\n",
    "I will follow the examples in the book "
   ]
  },
  {
   "cell_type": "code",
   "execution_count": null,
   "metadata": {},
   "outputs": [],
   "source": []
  }
 ],
 "metadata": {
  "kernelspec": {
   "display_name": "Python 3",
   "language": "python",
   "name": "python3"
  },
  "language_info": {
   "codemirror_mode": {
    "name": "ipython",
    "version": 3
   },
   "file_extension": ".py",
   "mimetype": "text/x-python",
   "name": "python",
   "nbconvert_exporter": "python",
   "pygments_lexer": "ipython3",
   "version": "3.6.7"
  }
 },
 "nbformat": 4,
 "nbformat_minor": 4
}
